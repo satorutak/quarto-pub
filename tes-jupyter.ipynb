{
  "cells": [
    {
      "cell_type": "raw",
      "id": "8b18d000",
      "metadata": {},
      "source": [
        "---\n",
        "title: \"matplotlib demo\"\n",
        "format:\n",
        "  html:\n",
        "    code-fold: true\n",
        "---"
      ]
    },
    {
      "cell_type": "markdown",
      "id": "0c33f40d",
      "metadata": {},
      "source": [
        "For a demonstration of a line plot on a polar axis, see @fig-polar.\n"
      ]
    },
    {
      "cell_type": "code",
      "execution_count": null,
      "id": "fig-polar",
      "metadata": {},
      "outputs": [],
      "source": [
        "#| label: fig-polar\n",
        "#| fig-cap: A line plot on a polar axis\n",
        "\n",
        "import numpy as np\n",
        "import matplotlib.pyplot as plt\n",
        "\n",
        "r = np.arange(0, 2, 0.01)\n",
        "theta = 2 * np.pi * r\n",
        "fig, ax = plt.subplots(\n",
        "  subplot_kw = {'projection': 'polar'} \n",
        ")\n",
        "ax.plot(theta, r)\n",
        "ax.set_rticks([0.5, 1, 1.5, 2])\n",
        "ax.grid(True)\n",
        "plt.show()"
      ]
    }
  ],
  "metadata": {
    "kernelspec": {
      "display_name": "base",
      "language": "python",
      "name": "python3"
    },
    "language_info": {
      "name": "python",
      "version": "3.9.13 (main, Aug 25 2022, 23:51:50) [MSC v.1916 64 bit (AMD64)]"
    },
    "vscode": {
      "interpreter": {
        "hash": "0cca0e367fa9e49b0a502b70d0e7c5e683b84d94cbb7f6811ec86fb60e78bf28"
      }
    }
  },
  "nbformat": 4,
  "nbformat_minor": 5
}
